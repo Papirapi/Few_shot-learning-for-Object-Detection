{
 "cells": [
  {
   "cell_type": "code",
   "execution_count": 7,
   "metadata": {},
   "outputs": [],
   "source": [
    "import renom as rm\n",
    "from renom.cuda import set_cuda_active\n",
    "import numpy as np\n",
    "from sklearn.datasets import fetch_mldata\n",
    "from sklearn.preprocessing import LabelBinarizer\n",
    "\n",
    "set_cuda_active(True)"
   ]
  },
  {
   "cell_type": "code",
   "execution_count": 8,
   "metadata": {},
   "outputs": [],
   "source": [
    "cnn = rm.Sequential([\n",
    "    rm.Conv2d(channel=32, filter=3, padding=1),\n",
    "    rm.Relu(),\n",
    "    rm.Conv2d(channel=64, filter=3, padding=1),\n",
    "    rm.Relu(),\n",
    "    rm.MaxPool2d(filter=2, stride=2),\n",
    "    rm.Dropout(0.5),\n",
    "    rm.Flatten(),\n",
    "    rm.Dense(128),\n",
    "    rm.Relu(),\n",
    "    rm.Dense(10)\n",
    "])\n"
   ]
  },
  {
   "cell_type": "code",
   "execution_count": 9,
   "metadata": {},
   "outputs": [],
   "source": [
    "mnist = fetch_mldata('MNIST original', data_home='./')\n",
    "data = mnist['data'].astype(np.float32)\n",
    "data /= 256\n",
    "\n",
    "train_num = int(0.8 * len(data))\n",
    "\n",
    "train_data = np.expand_dims(data[:train_num].reshape(train_num, 28, 28), axis=1)\n",
    "\n",
    "targets = mnist['target']\n",
    "train_targets = targets[:train_num]\n",
    "train_targets = LabelBinarizer().fit_transform(train_targets).astype(np.float32)\n",
    "\n"
   ]
  },
  {
   "cell_type": "code",
   "execution_count": 10,
   "metadata": {},
   "outputs": [
    {
     "name": "stdout",
     "output_type": "stream",
     "text": [
      "[0.18043837]\n",
      "[0.05359168]\n",
      "[0.03749543]\n",
      "[0.03067516]\n",
      "[0.02220922]\n"
     ]
    }
   ],
   "source": [
    "optimizer = rm.Adam()\n",
    "epochs = 5\n",
    "batch_size = 128\n",
    "\n",
    "for e in range(epochs):\n",
    "    loss = 0\n",
    "    perm = np.random.permutation(train_num)\n",
    "    \n",
    "    for i in range(train_num // batch_size):\n",
    "        train_batch = train_data[perm[i * batch_size:(i + 1) * batch_size]]\n",
    "        train_targets_batch = train_targets[perm[i * batch_size:(i + 1) * batch_size]]\n",
    "        with cnn.train():\n",
    "            l = rm.softmax_cross_entropy(cnn(train_batch), train_targets_batch)\n",
    "        \n",
    "        l.grad().update(optimizer)\n",
    "        loss += l.as_ndarray()\n",
    "    print(loss/i)"
   ]
  },
  {
   "cell_type": "code",
   "execution_count": 15,
   "metadata": {},
   "outputs": [],
   "source": [
    "import renom.utility.onnx\n",
    "x = np.random.random((1, 1, 28, 28))\n",
    "renom.utility.onnx.export_onnx(\"mnist\", cnn, x, \"mnist.onnx\") \n"
   ]
  },
  {
   "cell_type": "code",
   "execution_count": null,
   "metadata": {},
   "outputs": [],
   "source": []
  },
  {
   "cell_type": "code",
   "execution_count": null,
   "metadata": {},
   "outputs": [],
   "source": []
  },
  {
   "cell_type": "code",
   "execution_count": null,
   "metadata": {},
   "outputs": [],
   "source": []
  },
  {
   "cell_type": "code",
   "execution_count": null,
   "metadata": {},
   "outputs": [],
   "source": []
  }
 ],
 "metadata": {
  "kernelspec": {
   "display_name": "Python 3",
   "language": "python",
   "name": "python3"
  },
  "language_info": {
   "codemirror_mode": {
    "name": "ipython",
    "version": 3
   },
   "file_extension": ".py",
   "mimetype": "text/x-python",
   "name": "python",
   "nbconvert_exporter": "python",
   "pygments_lexer": "ipython3",
   "version": "3.6.4"
  }
 },
 "nbformat": 4,
 "nbformat_minor": 2
}
